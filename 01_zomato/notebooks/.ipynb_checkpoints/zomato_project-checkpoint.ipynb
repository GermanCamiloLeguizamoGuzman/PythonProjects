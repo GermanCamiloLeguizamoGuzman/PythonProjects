{
 "cells": [
  {
   "cell_type": "markdown",
   "id": "d46ded90-54f9-4c73-831a-1e370d2a0e31",
   "metadata": {},
   "source": [
    "# Análisis de datos de Zomato\n",
    "## Proyecto del 2 de agosto de 2025\n",
    "\n",
    "Comprender las preferencias de los clientes y las tendencias en los restaurantes es fundamental para tomar decisiones comerciales informadas en la industria alimentaria. En este proyecto, analizaremos el conjunto de datos de restaurantes de Zomato utilizando Python para encontrar información valiosa. Nuestro objetivo es responder preguntas como:\n",
    "\n",
    "- ¿Más restaurantes ofrecen entrega en línea en comparación con los servicios presenciales?\n",
    "- ¿Qué tipos de restaurantes son preferidos por el público en general?\n",
    "- ¿Qué rango de precios prefieren las parejas para salir a cenar?\n",
    "\n",
    "A continuación, se describen los pasos seguidos para su implementación.\n"
   ]
  },
  {
   "cell_type": "markdown",
   "id": "9a55b1ff-7356-4588-a454-bb0fb9f22f8c",
   "metadata": {},
   "source": [
    "### Paso 1: Importar las bibliotecas necesarias de Python\n",
    "Utilizaremos las bibliotecas Pandas, Numpy, Matplotlib y Seaborn."
   ]
  },
  {
   "cell_type": "code",
   "execution_count": 63,
   "id": "4362408a-e12f-4e90-82f7-4463b617de62",
   "metadata": {},
   "outputs": [],
   "source": [
    "import pandas as pd\n",
    "import numpy as np\n",
    "import matplotlib.pyplot as plt\n",
    "import seaborn as sns"
   ]
  },
  {
   "cell_type": "markdown",
   "id": "968e0680-81ab-4997-9d3c-6148146d10ee",
   "metadata": {},
   "source": [
    "### Paso 2: Creación del dataframe\n",
    "\n",
    "El dataframe puede descargarse en este enlace: https://media.geeksforgeeks.org/wp-content/uploads/20250117023324808265/Zomato-data-.csv"
   ]
  },
  {
   "cell_type": "code",
   "execution_count": 64,
   "id": "730cb84d-706c-4b70-8d92-33970dab90d9",
   "metadata": {},
   "outputs": [
    {
     "data": {
      "text/html": [
       "<div>\n",
       "<style scoped>\n",
       "    .dataframe tbody tr th:only-of-type {\n",
       "        vertical-align: middle;\n",
       "    }\n",
       "\n",
       "    .dataframe tbody tr th {\n",
       "        vertical-align: top;\n",
       "    }\n",
       "\n",
       "    .dataframe thead th {\n",
       "        text-align: right;\n",
       "    }\n",
       "</style>\n",
       "<table border=\"1\" class=\"dataframe\">\n",
       "  <thead>\n",
       "    <tr style=\"text-align: right;\">\n",
       "      <th></th>\n",
       "      <th>name</th>\n",
       "      <th>online_order</th>\n",
       "      <th>book_table</th>\n",
       "      <th>rate</th>\n",
       "      <th>votes</th>\n",
       "      <th>approx_cost(for two people)</th>\n",
       "      <th>listed_in(type)</th>\n",
       "    </tr>\n",
       "  </thead>\n",
       "  <tbody>\n",
       "    <tr>\n",
       "      <th>0</th>\n",
       "      <td>Jalsa</td>\n",
       "      <td>Yes</td>\n",
       "      <td>Yes</td>\n",
       "      <td>4.1/5</td>\n",
       "      <td>775</td>\n",
       "      <td>800</td>\n",
       "      <td>Buffet</td>\n",
       "    </tr>\n",
       "    <tr>\n",
       "      <th>1</th>\n",
       "      <td>Spice Elephant</td>\n",
       "      <td>Yes</td>\n",
       "      <td>No</td>\n",
       "      <td>4.1/5</td>\n",
       "      <td>787</td>\n",
       "      <td>800</td>\n",
       "      <td>Buffet</td>\n",
       "    </tr>\n",
       "    <tr>\n",
       "      <th>2</th>\n",
       "      <td>San Churro Cafe</td>\n",
       "      <td>Yes</td>\n",
       "      <td>No</td>\n",
       "      <td>3.8/5</td>\n",
       "      <td>918</td>\n",
       "      <td>800</td>\n",
       "      <td>Buffet</td>\n",
       "    </tr>\n",
       "    <tr>\n",
       "      <th>3</th>\n",
       "      <td>Addhuri Udupi Bhojana</td>\n",
       "      <td>No</td>\n",
       "      <td>No</td>\n",
       "      <td>3.7/5</td>\n",
       "      <td>88</td>\n",
       "      <td>300</td>\n",
       "      <td>Buffet</td>\n",
       "    </tr>\n",
       "    <tr>\n",
       "      <th>4</th>\n",
       "      <td>Grand Village</td>\n",
       "      <td>No</td>\n",
       "      <td>No</td>\n",
       "      <td>3.8/5</td>\n",
       "      <td>166</td>\n",
       "      <td>600</td>\n",
       "      <td>Buffet</td>\n",
       "    </tr>\n",
       "  </tbody>\n",
       "</table>\n",
       "</div>"
      ],
      "text/plain": [
       "                    name online_order book_table   rate  votes  \\\n",
       "0                  Jalsa          Yes        Yes  4.1/5    775   \n",
       "1         Spice Elephant          Yes         No  4.1/5    787   \n",
       "2        San Churro Cafe          Yes         No  3.8/5    918   \n",
       "3  Addhuri Udupi Bhojana           No         No  3.7/5     88   \n",
       "4          Grand Village           No         No  3.8/5    166   \n",
       "\n",
       "   approx_cost(for two people) listed_in(type)  \n",
       "0                          800          Buffet  \n",
       "1                          800          Buffet  \n",
       "2                          800          Buffet  \n",
       "3                          300          Buffet  \n",
       "4                          600          Buffet  "
      ]
     },
     "execution_count": 64,
     "metadata": {},
     "output_type": "execute_result"
    }
   ],
   "source": [
    "zomato = pd.read_csv('C:/Users/57310/Desktop/PythonStudying/PythonProjects/01_zomato/data/Zomato-data.csv')\n",
    "zomato.head()"
   ]
  },
  {
   "cell_type": "markdown",
   "id": "1e55e020-3534-44f2-bf8a-5f1120a830d7",
   "metadata": {},
   "source": [
    "### Paso 3: Limpieza y preparación de los datos\n",
    "\n",
    "Antes de continuar, necesitamos limpiar y procesar los datos. Para lo cual, verificaremos el tipo de datos de cada columna"
   ]
  },
  {
   "cell_type": "code",
   "execution_count": 65,
   "id": "b896f842-d348-4c03-823c-2a855eeee4c3",
   "metadata": {},
   "outputs": [
    {
     "data": {
      "text/plain": [
       "name                           object\n",
       "online_order                   object\n",
       "book_table                     object\n",
       "rate                           object\n",
       "votes                           int64\n",
       "approx_cost(for two people)     int64\n",
       "listed_in(type)                object\n",
       "dtype: object"
      ]
     },
     "execution_count": 65,
     "metadata": {},
     "output_type": "execute_result"
    }
   ],
   "source": [
    "zomato.dtypes"
   ]
  },
  {
   "cell_type": "markdown",
   "id": "3249aed8-da69-4b2a-a54d-cff95df93b27",
   "metadata": {},
   "source": [
    "#### Columnas cuyo tipo de dato fue asignado correctamente:\n",
    "##### Name y listed_in\n",
    "Son cadenas de carácteres, por lo que es correcto asignarles el tipo de dato 'object'\n",
    "\n",
    "##### Votes y approx_cost\n",
    "Son variables discretas, por lo que es correcto asignarles el tipo de dato 'int64'\n",
    "\n",
    "#### Columnas cuyo tipo de dato fue asignado incorrectamente:\n",
    "##### Online_order y book_table\n",
    "Están asignadas como object. Pero podrían ser un valor booleano. Se aconseja cambiar el tipo de dato de dichas columnas a 'boolean'\n",
    "\n",
    "##### rate\n",
    "Es un valor decimal, por lo que puede asignarse como una variable de tipo 'float64'\n",
    "\n"
   ]
  },
  {
   "cell_type": "code",
   "execution_count": 66,
   "id": "e096c180-22ce-470a-b617-8c6d750d6e57",
   "metadata": {},
   "outputs": [
    {
     "data": {
      "text/html": [
       "<div>\n",
       "<style scoped>\n",
       "    .dataframe tbody tr th:only-of-type {\n",
       "        vertical-align: middle;\n",
       "    }\n",
       "\n",
       "    .dataframe tbody tr th {\n",
       "        vertical-align: top;\n",
       "    }\n",
       "\n",
       "    .dataframe thead th {\n",
       "        text-align: right;\n",
       "    }\n",
       "</style>\n",
       "<table border=\"1\" class=\"dataframe\">\n",
       "  <thead>\n",
       "    <tr style=\"text-align: right;\">\n",
       "      <th></th>\n",
       "      <th>name</th>\n",
       "      <th>online_order</th>\n",
       "      <th>book_table</th>\n",
       "      <th>rate</th>\n",
       "      <th>votes</th>\n",
       "      <th>approx_cost(for two people)</th>\n",
       "      <th>listed_in(type)</th>\n",
       "    </tr>\n",
       "  </thead>\n",
       "  <tbody>\n",
       "    <tr>\n",
       "      <th>0</th>\n",
       "      <td>Jalsa</td>\n",
       "      <td>Yes</td>\n",
       "      <td>Yes</td>\n",
       "      <td>4.1</td>\n",
       "      <td>775</td>\n",
       "      <td>800</td>\n",
       "      <td>Buffet</td>\n",
       "    </tr>\n",
       "    <tr>\n",
       "      <th>1</th>\n",
       "      <td>Spice Elephant</td>\n",
       "      <td>Yes</td>\n",
       "      <td>No</td>\n",
       "      <td>4.1</td>\n",
       "      <td>787</td>\n",
       "      <td>800</td>\n",
       "      <td>Buffet</td>\n",
       "    </tr>\n",
       "    <tr>\n",
       "      <th>2</th>\n",
       "      <td>San Churro Cafe</td>\n",
       "      <td>Yes</td>\n",
       "      <td>No</td>\n",
       "      <td>3.8</td>\n",
       "      <td>918</td>\n",
       "      <td>800</td>\n",
       "      <td>Buffet</td>\n",
       "    </tr>\n",
       "    <tr>\n",
       "      <th>3</th>\n",
       "      <td>Addhuri Udupi Bhojana</td>\n",
       "      <td>No</td>\n",
       "      <td>No</td>\n",
       "      <td>3.7</td>\n",
       "      <td>88</td>\n",
       "      <td>300</td>\n",
       "      <td>Buffet</td>\n",
       "    </tr>\n",
       "    <tr>\n",
       "      <th>4</th>\n",
       "      <td>Grand Village</td>\n",
       "      <td>No</td>\n",
       "      <td>No</td>\n",
       "      <td>3.8</td>\n",
       "      <td>166</td>\n",
       "      <td>600</td>\n",
       "      <td>Buffet</td>\n",
       "    </tr>\n",
       "  </tbody>\n",
       "</table>\n",
       "</div>"
      ],
      "text/plain": [
       "                    name online_order book_table rate  votes  \\\n",
       "0                  Jalsa          Yes        Yes  4.1    775   \n",
       "1         Spice Elephant          Yes         No  4.1    787   \n",
       "2        San Churro Cafe          Yes         No  3.8    918   \n",
       "3  Addhuri Udupi Bhojana           No         No  3.7     88   \n",
       "4          Grand Village           No         No  3.8    166   \n",
       "\n",
       "   approx_cost(for two people) listed_in(type)  \n",
       "0                          800          Buffet  \n",
       "1                          800          Buffet  \n",
       "2                          800          Buffet  \n",
       "3                          300          Buffet  \n",
       "4                          600          Buffet  "
      ]
     },
     "execution_count": 66,
     "metadata": {},
     "output_type": "execute_result"
    }
   ],
   "source": [
    "# En esta sección generamos un dataframe llamado 'splitting_rate' que separa la puntuación obtenida y la puntuación máxima\n",
    "splitting_rate = zomato['rate'].str.split(\n",
    "    pat = '/',\n",
    "    expand = True\n",
    ")\n",
    "\n",
    "# Visualizamos splitting_rate\n",
    "splitting_rate\n",
    "\n",
    "# Cambiamos la columna 'rate' de zomato por la columna 0 de splitting rate para eliminar el puntaje máximo\n",
    "zomato['rate'] = splitting_rate[0]\n",
    "zomato.head()"
   ]
  },
  {
   "cell_type": "code",
   "execution_count": 67,
   "id": "1d4af082-34f9-4e82-9b32-87af46d5064d",
   "metadata": {},
   "outputs": [
    {
     "data": {
      "text/plain": [
       "name                            object\n",
       "online_order                    object\n",
       "book_table                      object\n",
       "rate                           float64\n",
       "votes                            int64\n",
       "approx_cost(for two people)      int64\n",
       "listed_in(type)                 object\n",
       "dtype: object"
      ]
     },
     "execution_count": 67,
     "metadata": {},
     "output_type": "execute_result"
    }
   ],
   "source": [
    "# Modificamos el tipo de dato de la columna rate a float64\n",
    "zomato['rate'] = zomato['rate'].astype('float64')\n",
    "\n",
    "# Verificamos el ajuste\n",
    "zomato.dtypes"
   ]
  },
  {
   "cell_type": "code",
   "execution_count": 68,
   "id": "8de91036-315e-471c-b451-95f88e9eac11",
   "metadata": {},
   "outputs": [
    {
     "name": "stdout",
     "output_type": "stream",
     "text": [
      "<class 'pandas.core.frame.DataFrame'>\n",
      "RangeIndex: 148 entries, 0 to 147\n",
      "Data columns (total 7 columns):\n",
      " #   Column                       Non-Null Count  Dtype  \n",
      "---  ------                       --------------  -----  \n",
      " 0   name                         148 non-null    object \n",
      " 1   online_order                 148 non-null    object \n",
      " 2   book_table                   148 non-null    object \n",
      " 3   rate                         148 non-null    float64\n",
      " 4   votes                        148 non-null    int64  \n",
      " 5   approx_cost(for two people)  148 non-null    int64  \n",
      " 6   listed_in(type)              148 non-null    object \n",
      "dtypes: float64(1), int64(2), object(4)\n",
      "memory usage: 8.2+ KB\n"
     ]
    }
   ],
   "source": [
    "# Visualicemos información de todo el dataframe en búsqueda de valores nulos\n",
    "zomato.info()"
   ]
  },
  {
   "cell_type": "code",
   "execution_count": 69,
   "id": "687900dc-10de-4764-81de-840d0b35703b",
   "metadata": {},
   "outputs": [
    {
     "name": "stdout",
     "output_type": "stream",
     "text": [
      "name                           0\n",
      "online_order                   0\n",
      "book_table                     0\n",
      "rate                           0\n",
      "votes                          0\n",
      "approx_cost(for two people)    0\n",
      "listed_in(type)                0\n",
      "dtype: int64\n"
     ]
    }
   ],
   "source": [
    "# Contemos el número de valores no nulos\n",
    "print(zomato.isnull().sum())"
   ]
  },
  {
   "cell_type": "code",
   "execution_count": 70,
   "id": "1697cec8-f876-45a3-8041-4613b33a556b",
   "metadata": {},
   "outputs": [
    {
     "data": {
      "text/html": [
       "<div>\n",
       "<style scoped>\n",
       "    .dataframe tbody tr th:only-of-type {\n",
       "        vertical-align: middle;\n",
       "    }\n",
       "\n",
       "    .dataframe tbody tr th {\n",
       "        vertical-align: top;\n",
       "    }\n",
       "\n",
       "    .dataframe thead th {\n",
       "        text-align: right;\n",
       "    }\n",
       "</style>\n",
       "<table border=\"1\" class=\"dataframe\">\n",
       "  <thead>\n",
       "    <tr style=\"text-align: right;\">\n",
       "      <th></th>\n",
       "      <th>name</th>\n",
       "      <th>rate</th>\n",
       "      <th>votes</th>\n",
       "      <th>approx_cost(for two people)</th>\n",
       "      <th>listed_in(type)</th>\n",
       "      <th>online_order</th>\n",
       "      <th>book_table</th>\n",
       "    </tr>\n",
       "  </thead>\n",
       "  <tbody>\n",
       "    <tr>\n",
       "      <th>0</th>\n",
       "      <td>Jalsa</td>\n",
       "      <td>4.1</td>\n",
       "      <td>775</td>\n",
       "      <td>800</td>\n",
       "      <td>Buffet</td>\n",
       "      <td>True</td>\n",
       "      <td>True</td>\n",
       "    </tr>\n",
       "    <tr>\n",
       "      <th>1</th>\n",
       "      <td>Spice Elephant</td>\n",
       "      <td>4.1</td>\n",
       "      <td>787</td>\n",
       "      <td>800</td>\n",
       "      <td>Buffet</td>\n",
       "      <td>True</td>\n",
       "      <td>False</td>\n",
       "    </tr>\n",
       "    <tr>\n",
       "      <th>2</th>\n",
       "      <td>San Churro Cafe</td>\n",
       "      <td>3.8</td>\n",
       "      <td>918</td>\n",
       "      <td>800</td>\n",
       "      <td>Buffet</td>\n",
       "      <td>True</td>\n",
       "      <td>False</td>\n",
       "    </tr>\n",
       "    <tr>\n",
       "      <th>3</th>\n",
       "      <td>Addhuri Udupi Bhojana</td>\n",
       "      <td>3.7</td>\n",
       "      <td>88</td>\n",
       "      <td>300</td>\n",
       "      <td>Buffet</td>\n",
       "      <td>False</td>\n",
       "      <td>False</td>\n",
       "    </tr>\n",
       "    <tr>\n",
       "      <th>4</th>\n",
       "      <td>Grand Village</td>\n",
       "      <td>3.8</td>\n",
       "      <td>166</td>\n",
       "      <td>600</td>\n",
       "      <td>Buffet</td>\n",
       "      <td>False</td>\n",
       "      <td>False</td>\n",
       "    </tr>\n",
       "    <tr>\n",
       "      <th>...</th>\n",
       "      <td>...</td>\n",
       "      <td>...</td>\n",
       "      <td>...</td>\n",
       "      <td>...</td>\n",
       "      <td>...</td>\n",
       "      <td>...</td>\n",
       "      <td>...</td>\n",
       "    </tr>\n",
       "    <tr>\n",
       "      <th>143</th>\n",
       "      <td>Melting Melodies</td>\n",
       "      <td>3.3</td>\n",
       "      <td>0</td>\n",
       "      <td>100</td>\n",
       "      <td>Dining</td>\n",
       "      <td>False</td>\n",
       "      <td>False</td>\n",
       "    </tr>\n",
       "    <tr>\n",
       "      <th>144</th>\n",
       "      <td>New Indraprasta</td>\n",
       "      <td>3.3</td>\n",
       "      <td>0</td>\n",
       "      <td>150</td>\n",
       "      <td>Dining</td>\n",
       "      <td>False</td>\n",
       "      <td>False</td>\n",
       "    </tr>\n",
       "    <tr>\n",
       "      <th>145</th>\n",
       "      <td>Anna Kuteera</td>\n",
       "      <td>4.0</td>\n",
       "      <td>771</td>\n",
       "      <td>450</td>\n",
       "      <td>Dining</td>\n",
       "      <td>True</td>\n",
       "      <td>False</td>\n",
       "    </tr>\n",
       "    <tr>\n",
       "      <th>146</th>\n",
       "      <td>Darbar</td>\n",
       "      <td>3.0</td>\n",
       "      <td>98</td>\n",
       "      <td>800</td>\n",
       "      <td>Dining</td>\n",
       "      <td>False</td>\n",
       "      <td>False</td>\n",
       "    </tr>\n",
       "    <tr>\n",
       "      <th>147</th>\n",
       "      <td>Vijayalakshmi</td>\n",
       "      <td>3.9</td>\n",
       "      <td>47</td>\n",
       "      <td>200</td>\n",
       "      <td>Dining</td>\n",
       "      <td>True</td>\n",
       "      <td>False</td>\n",
       "    </tr>\n",
       "  </tbody>\n",
       "</table>\n",
       "<p>148 rows × 7 columns</p>\n",
       "</div>"
      ],
      "text/plain": [
       "                      name  rate  votes  approx_cost(for two people)  \\\n",
       "0                    Jalsa   4.1    775                          800   \n",
       "1           Spice Elephant   4.1    787                          800   \n",
       "2          San Churro Cafe   3.8    918                          800   \n",
       "3    Addhuri Udupi Bhojana   3.7     88                          300   \n",
       "4            Grand Village   3.8    166                          600   \n",
       "..                     ...   ...    ...                          ...   \n",
       "143       Melting Melodies   3.3      0                          100   \n",
       "144        New Indraprasta   3.3      0                          150   \n",
       "145           Anna Kuteera   4.0    771                          450   \n",
       "146                 Darbar   3.0     98                          800   \n",
       "147          Vijayalakshmi   3.9     47                          200   \n",
       "\n",
       "    listed_in(type)  online_order  book_table  \n",
       "0            Buffet          True        True  \n",
       "1            Buffet          True       False  \n",
       "2            Buffet          True       False  \n",
       "3            Buffet         False       False  \n",
       "4            Buffet         False       False  \n",
       "..              ...           ...         ...  \n",
       "143          Dining         False       False  \n",
       "144          Dining         False       False  \n",
       "145          Dining          True       False  \n",
       "146          Dining         False       False  \n",
       "147          Dining          True       False  \n",
       "\n",
       "[148 rows x 7 columns]"
      ]
     },
     "execution_count": 70,
     "metadata": {},
     "output_type": "execute_result"
    }
   ],
   "source": [
    "# Contemos el número de valores no nulos\n",
    "zomato['online_order_boolean'] = zomato['online_order'].map({'Yes': True, 'No': False}).astype(bool)\n",
    "zomato['book_table_boolean'] = zomato['book_table'].map({'Yes': True, 'No': False}).astype(bool)\n",
    "\n",
    "# Verificamos el ajuste\n",
    "zomato\n",
    "\n",
    "# Eliminamos columnas no booleanas\n",
    "drop_columns = ['online_order', 'book_table']\n",
    "zomato = zomato.drop(\n",
    "    labels = drop_columns,\n",
    "    axis = 1\n",
    ")\n",
    "\n",
    "# Verificamos el ajuste\n",
    "zomato\n",
    "\n",
    "#Renombramos las columnas boleanas\n",
    "column_mapper = {'online_order_boolean' : 'online_order', 'book_table_boolean' : 'book_table'}\n",
    "\n",
    "zomato = zomato.rename(\n",
    "    mapper = column_mapper,\n",
    "    axis = 1\n",
    ")\n",
    "\n",
    "zomato\n"
   ]
  },
  {
   "cell_type": "markdown",
   "id": "53d86aa9-a5c5-49f2-a537-7c6a99bcb0f2",
   "metadata": {},
   "source": [
    "### Paso 4: Exploramos Tipos de Restaurantes\n",
    "\n",
    "1. Examinamos la columna listed_in(type) para identificar las categorías de restaurantes más populares."
   ]
  },
  {
   "cell_type": "code",
   "execution_count": 71,
   "id": "eb6a6f38-a953-4a53-8c61-fd052b0ff199",
   "metadata": {},
   "outputs": [
    {
     "data": {
      "text/plain": [
       "count        148\n",
       "unique         4\n",
       "top       Dining\n",
       "freq         110\n",
       "Name: listed_in(type), dtype: object"
      ]
     },
     "execution_count": 71,
     "metadata": {},
     "output_type": "execute_result"
    }
   ],
   "source": [
    "# Tomamos medidas estadísticas de la columna\n",
    "zomato['listed_in(type)'].describe()"
   ]
  },
  {
   "cell_type": "code",
   "execution_count": 72,
   "id": "a7a0118f-e056-4039-a47f-033f0b0ef74c",
   "metadata": {},
   "outputs": [
    {
     "data": {
      "text/plain": [
       "listed_in(type)\n",
       "Dining    110\n",
       "Cafes      23\n",
       "other       8\n",
       "Buffet      7\n",
       "Name: count, dtype: int64"
      ]
     },
     "execution_count": 72,
     "metadata": {},
     "output_type": "execute_result"
    }
   ],
   "source": [
    "# Vemos cuántas veces está cada tipo de restaurante\n",
    "zomato['listed_in(type)'].value_counts()"
   ]
  },
  {
   "cell_type": "code",
   "execution_count": 73,
   "id": "987dec87-aa01-4afd-8a60-7d2897bb152d",
   "metadata": {},
   "outputs": [
    {
     "data": {
      "text/plain": [
       "Text(0, 0.5, 'Cantidad')"
      ]
     },
     "execution_count": 73,
     "metadata": {},
     "output_type": "execute_result"
    },
    {
     "data": {
      "image/png": "[encoded data removed]",
      "text/plain": [
       "<Figure size 640x480 with 1 Axes>"
      ]
     },
     "metadata": {},
     "output_type": "display_data"
    }
   ],
   "source": [
    "# Realizamos gráfico de barras para describir cada restaurante\n",
    "custom_palette = ['#d31f11', '#f47a00', '#62c8d3', '#007191']\n",
    "sns.countplot(\n",
    "    x = 'listed_in(type)',\n",
    "    data = zomato,\n",
    "    hue = 'listed_in(type)',\n",
    "    palette = custom_palette,   \n",
    ")\n",
    "plt.xlabel('Tipo de restaurante')\n",
    "plt.ylabel('Cantidad')"
   ]
  },
  {
   "cell_type": "markdown",
   "id": "b7a8ae4c-1801-4dcc-9f5a-3f905c5c2746",
   "metadata": {},
   "source": [
    "#### Conclusión: La mayoría de los restaurantes están dentro de la categoría 'Dining' (Cena)"
   ]
  },
  {
   "cell_type": "markdown",
   "id": "3c03a77b-e5fb-4da9-ab16-da9ee823d461",
   "metadata": {},
   "source": [
    "2. Examinamos la columna votes para identificar los restaurantes preferidos por los comensales"
   ]
  },
  {
   "cell_type": "code",
   "execution_count": 74,
   "id": "fa94ed1f-dc53-4ebc-94ad-318348518ebd",
   "metadata": {},
   "outputs": [
    {
     "data": {
      "text/plain": [
       "count     148.000000\n",
       "mean      264.810811\n",
       "std       653.676951\n",
       "min         0.000000\n",
       "25%         6.750000\n",
       "50%        43.500000\n",
       "75%       221.750000\n",
       "max      4884.000000\n",
       "Name: votes, dtype: float64"
      ]
     },
     "execution_count": 74,
     "metadata": {},
     "output_type": "execute_result"
    }
   ],
   "source": [
    "# Tomamos medidas estadísticas de la columna\n",
    "zomato['votes'].describe()"
   ]
  },
  {
   "cell_type": "code",
   "execution_count": 75,
   "id": "fca2d981-3b5b-4709-b492-1e1d4a553c5e",
   "metadata": {},
   "outputs": [],
   "source": [
    "#Agrupamos los votos por categoría\n",
    "votes_grouped = zomato.groupby('listed_in(type)').agg({'votes' : 'sum'})\n",
    "votes_grouped = votes_grouped.reset_index()\n",
    "votes_grouped = votes_grouped.sort_values(by = 'votes', ascending = False) #Organizamos el dataframe de mayor a menor para mejor legibilidad"
   ]
  },
  {
   "cell_type": "code",
   "execution_count": 76,
   "id": "539bfdd7-e604-42f7-9969-b10fe7a81fa1",
   "metadata": {},
   "outputs": [
    {
     "data": {
      "text/plain": [
       "Text(0, 0.5, 'Cantidad')"
      ]
     },
     "execution_count": 76,
     "metadata": {},
     "output_type": "execute_result"
    },
    {
     "data": {
      "image/png": "[encoded data removed]",
      "text/plain": [
       "<Figure size 640x480 with 1 Axes>"
      ]
     },
     "metadata": {},
     "output_type": "display_data"
    }
   ],
   "source": [
    "# Realizamos gráfico de barras para describir cada restaurante\n",
    "custom_palette = ['#d31f11', '#f47a00', '#62c8d3', '#007191'] #Paleta de color perzonalizada, amigable con personas que tienen\n",
    "votes_grouped\n",
    "sns.barplot(\n",
    "    x = 'listed_in(type)',\n",
    "    y = 'votes',\n",
    "    data = votes_grouped,\n",
    "    hue = 'listed_in(type)',\n",
    "    palette = custom_palette,   \n",
    ")\n",
    "plt.xlabel('Tipo de restaurante')\n",
    "plt.ylabel('Cantidad')"
   ]
  },
  {
   "cell_type": "markdown",
   "id": "9b6eef4e-26a1-47a3-9302-dfb2b8385398",
   "metadata": {},
   "source": [
    "#### Conclusión: Los restaurantes de la categoría 'dining' (Cena) son preferidos por los comensales"
   ]
  },
  {
   "cell_type": "markdown",
   "id": "2ed1e0c6-d7c7-417d-92b7-e83aabf634bd",
   "metadata": {},
   "source": [
    "### Paso 5: Identificamos el restaurante más votado"
   ]
  },
  {
   "cell_type": "code",
   "execution_count": 77,
   "id": "91578956-1b64-487a-bd93-c5477447104d",
   "metadata": {},
   "outputs": [
    {
     "data": {
      "text/html": [
       "<div>\n",
       "<style scoped>\n",
       "    .dataframe tbody tr th:only-of-type {\n",
       "        vertical-align: middle;\n",
       "    }\n",
       "\n",
       "    .dataframe tbody tr th {\n",
       "        vertical-align: top;\n",
       "    }\n",
       "\n",
       "    .dataframe thead th {\n",
       "        text-align: right;\n",
       "    }\n",
       "</style>\n",
       "<table border=\"1\" class=\"dataframe\">\n",
       "  <thead>\n",
       "    <tr style=\"text-align: right;\">\n",
       "      <th></th>\n",
       "      <th>name</th>\n",
       "      <th>rate</th>\n",
       "      <th>votes</th>\n",
       "      <th>approx_cost(for two people)</th>\n",
       "      <th>listed_in(type)</th>\n",
       "      <th>online_order</th>\n",
       "      <th>book_table</th>\n",
       "    </tr>\n",
       "  </thead>\n",
       "  <tbody>\n",
       "    <tr>\n",
       "      <th>38</th>\n",
       "      <td>Empire Restaurant</td>\n",
       "      <td>4.4</td>\n",
       "      <td>4884</td>\n",
       "      <td>750</td>\n",
       "      <td>other</td>\n",
       "      <td>True</td>\n",
       "      <td>False</td>\n",
       "    </tr>\n",
       "  </tbody>\n",
       "</table>\n",
       "</div>"
      ],
      "text/plain": [
       "                 name  rate  votes  approx_cost(for two people)  \\\n",
       "38  Empire Restaurant   4.4   4884                          750   \n",
       "\n",
       "   listed_in(type)  online_order  book_table  \n",
       "38           other          True       False  "
      ]
     },
     "execution_count": 77,
     "metadata": {},
     "output_type": "execute_result"
    }
   ],
   "source": [
    "# Buscamos el número de votos que obtuvo el restaurante más votado\n",
    "max_votes = zomato['votes'].max()\n",
    "\n",
    "# Buscamos el restaurante con más votos aplicando una mascarilla booleana\n",
    "top_restaurant = zomato[zomato['votes'] == max_votes]\n",
    "top_restaurant"
   ]
  },
  {
   "cell_type": "markdown",
   "id": "3d04a3ff-31c9-4310-af08-b9faf628d9e6",
   "metadata": {},
   "source": [
    "#### Conclusión: El restaurante más votado fue el Empire Restaurant con un total de 4884 votos y una puntuación de 4.4 sobre 5"
   ]
  },
  {
   "cell_type": "markdown",
   "id": "af9e382b-4169-4f25-b642-ecd77ff42657",
   "metadata": {},
   "source": [
    "### Paso 6: Análisis de la disponibilidad online\n",
    "\n",
    "Exploramos gráficamente la columna online_order para mirar cuántos restaurantes aceptan órdenes en línea"
   ]
  },
  {
   "cell_type": "code",
   "execution_count": 92,
   "id": "53b4ad8a-95a8-4502-923c-c7b1f63caef5",
   "metadata": {},
   "outputs": [
    {
     "data": {
      "text/html": [
       "<div>\n",
       "<style scoped>\n",
       "    .dataframe tbody tr th:only-of-type {\n",
       "        vertical-align: middle;\n",
       "    }\n",
       "\n",
       "    .dataframe tbody tr th {\n",
       "        vertical-align: top;\n",
       "    }\n",
       "\n",
       "    .dataframe thead th {\n",
       "        text-align: right;\n",
       "    }\n",
       "</style>\n",
       "<table border=\"1\" class=\"dataframe\">\n",
       "  <thead>\n",
       "    <tr style=\"text-align: right;\">\n",
       "      <th></th>\n",
       "      <th>online_order</th>\n",
       "      <th>count</th>\n",
       "    </tr>\n",
       "  </thead>\n",
       "  <tbody>\n",
       "    <tr>\n",
       "      <th>0</th>\n",
       "      <td>False</td>\n",
       "      <td>90</td>\n",
       "    </tr>\n",
       "    <tr>\n",
       "      <th>1</th>\n",
       "      <td>True</td>\n",
       "      <td>58</td>\n",
       "    </tr>\n",
       "  </tbody>\n",
       "</table>\n",
       "</div>"
      ],
      "text/plain": [
       "   online_order  count\n",
       "0         False     90\n",
       "1          True     58"
      ]
     },
     "execution_count": 92,
     "metadata": {},
     "output_type": "execute_result"
    }
   ],
   "source": [
    "#Agrupamos los datos por categoría\n",
    "online_order_grouped = zomato['online_order'].value_counts().reset_index(name='count').rename(columns={'index': 'online_order'})\n",
    "online_order_grouped"
   ]
  },
  {
   "cell_type": "code",
   "execution_count": 96,
   "id": "4a875b5f-587b-45e9-ab8a-d8a84baa9467",
   "metadata": {},
   "outputs": [
    {
     "data": {
      "text/html": [
       "<div>\n",
       "<style scoped>\n",
       "    .dataframe tbody tr th:only-of-type {\n",
       "        vertical-align: middle;\n",
       "    }\n",
       "\n",
       "    .dataframe tbody tr th {\n",
       "        vertical-align: top;\n",
       "    }\n",
       "\n",
       "    .dataframe thead th {\n",
       "        text-align: right;\n",
       "    }\n",
       "</style>\n",
       "<table border=\"1\" class=\"dataframe\">\n",
       "  <thead>\n",
       "    <tr style=\"text-align: right;\">\n",
       "      <th></th>\n",
       "      <th>online_order</th>\n",
       "      <th>count</th>\n",
       "    </tr>\n",
       "  </thead>\n",
       "  <tbody>\n",
       "    <tr>\n",
       "      <th>0</th>\n",
       "      <td>False</td>\n",
       "      <td>60.810811</td>\n",
       "    </tr>\n",
       "    <tr>\n",
       "      <th>1</th>\n",
       "      <td>True</td>\n",
       "      <td>39.189189</td>\n",
       "    </tr>\n",
       "  </tbody>\n",
       "</table>\n",
       "</div>"
      ],
      "text/plain": [
       "   online_order      count\n",
       "0         False  60.810811\n",
       "1          True  39.189189"
      ]
     },
     "execution_count": 96,
     "metadata": {},
     "output_type": "execute_result"
    }
   ],
   "source": [
    "online_order_grouped_percent = online_order_grouped\n",
    "online_order_grouped_percent['count'] = (online_order_grouped_percent['count'] / online_order_grouped_percent['count'].sum()) *100\n",
    "online_order_grouped_percent"
   ]
  },
  {
   "cell_type": "code",
   "execution_count": 97,
   "id": "98c23ea2-e559-4fcf-adbb-3d71bb173664",
   "metadata": {},
   "outputs": [
    {
     "data": {
      "text/plain": [
       "<Axes: xlabel='online_order', ylabel='count'>"
      ]
     },
     "execution_count": 97,
     "metadata": {},
     "output_type": "execute_result"
    },
    {
     "data": {
      "image/png": "[encoded data removed]",
      "text/plain": [
       "<Figure size 640x480 with 1 Axes>"
      ]
     },
     "metadata": {},
     "output_type": "display_data"
    }
   ],
   "source": [
    "# Realizamos gráfico de barras para describir cada restaurante\n",
    "custom_palette = ['#d31f11', '#62c8d3']\n",
    "sns.barplot(\n",
    "    x = 'online_order',\n",
    "    y = 'count',\n",
    "    data = online_order_grouped_percent,\n",
    "    hue = 'online_order',\n",
    "    palette = custom_palette,   \n",
    ")"
   ]
  },
  {
   "cell_type": "markdown",
   "id": "bcaafe26-3c84-40d7-ae91-86f45d241d89",
   "metadata": {},
   "source": [
    "#### Conclusión: El 60.8% de los restaurantes no acepta órdenes online || 3 de cada 5 restaurantes no aceptan órdenes en línea"
   ]
  },
  {
   "cell_type": "markdown",
   "id": "52eab727-5213-472e-a8ec-f8f0847ac33a",
   "metadata": {},
   "source": [
    "### Paso 7: Distribución de los puntajes\n",
    "\n",
    "Realizamos un histograma con el fin de visualizar cómo se distribuyen los restaurantes en los distintos puntajes obtenidos"
   ]
  },
  {
   "cell_type": "code",
   "execution_count": 114,
   "id": "01d6a47b-7a04-47af-837a-de14f28e7050",
   "metadata": {},
   "outputs": [
    {
     "data": {
      "text/plain": [
       "<function matplotlib.pyplot.show(close=None, block=None)>"
      ]
     },
     "execution_count": 114,
     "metadata": {},
     "output_type": "execute_result"
    },
    {
     "data": {
      "image/png": "[encoded data removed]",
      "text/plain": [
       "<Figure size 640x480 with 1 Axes>"
      ]
     },
     "metadata": {},
     "output_type": "display_data"
    }
   ],
   "source": [
    "plt.hist(zomato['rate'], bins = 10, color = '#d31f11')\n",
    "plt.title('Distribución de los puntajes')\n",
    "plt.xlabel('Puntaje')\n",
    "plt.ylabel('Frecuencia')\n",
    "plt.show"
   ]
  },
  {
   "cell_type": "markdown",
   "id": "fdc0a2a5-72d3-4d85-b16f-1833bd112083",
   "metadata": {},
   "source": [
    "#### Conclusión: Los restaurantes tienden a obtener con mayor frecuencia puntajes entre 3.5 y 4 (sobre 5)."
   ]
  },
  {
   "cell_type": "markdown",
   "id": "a45ef355-ddf3-4e63-8dcc-b58da917f87c",
   "metadata": {},
   "source": [
    "### Paso 8: Análisis del costo aproximado por pareja\n",
    "\n",
    "Realzamos un gráfico donde es posible observar qué costo aproximado por pareja prefieren los comensales. De forma, que sea posible ofrecer menús con un ticket promedio que se encuentre entre el rango de precios más popular"
   ]
  },
  {
   "cell_type": "markdown",
   "id": "d0d75a3d-f964-4386-8421-96bf5dc377f6",
   "metadata": {},
   "source": [
    "couple_data = zomato['approx_cost(for two people)']\n",
    "sns.countplot(x = couple_data)"
   ]
  },
  {
   "cell_type": "markdown",
   "id": "6847884f-8bf2-4a0e-b48f-7e9efc61a2d1",
   "metadata": {},
   "source": [
    "#### Conclusión: La mayoría de parejas prefieren restaurantes con un ticket aproximado de 300 dólares. Aunque los menús de 150 y 200 dólares también son muy atractivos."
   ]
  },
  {
   "cell_type": "markdown",
   "id": "81c0fb60-64b1-4686-8acd-aac1beb8e181",
   "metadata": {},
   "source": [
    "### Paso 9: Comparación de puntuaciones (Para restaurantes que admiten y no admiten órdenes en línea)\n",
    "\n",
    "Comparamos los ratings en los que se encuentran los restaurantes que admiten y no admiten órdenes en línea, usando diagramas de cajas y bigotes."
   ]
  },
  {
   "cell_type": "code",
   "execution_count": 126,
   "id": "90b38a55-97a7-4adf-856a-0f3ed053bd32",
   "metadata": {},
   "outputs": [
    {
     "data": {
      "image/png": "[encoded data removed]",
      "text/plain": [
       "<Figure size 600x600 with 1 Axes>"
      ]
     },
     "metadata": {},
     "output_type": "display_data"
    }
   ],
   "source": [
    "plt.figure(figsize = (6, 6))\n",
    "custom_palette = ['#d31f11', '#62c8d3']\n",
    "sns.boxplot(\n",
    "    x = 'online_order',\n",
    "    y = 'rate',\n",
    "    hue='online_order',\n",
    "    data = zomato,\n",
    "    palette = custom_palette\n",
    ")\n",
    "plt.title('Distribución de puntajes dependiendo de si permiten pedido online')\n",
    "plt.xlabel('¿Admite orden en línea?')\n",
    "plt.ylabel('Puntaje')\n",
    "plt.show()"
   ]
  },
  {
   "cell_type": "markdown",
   "id": "586fd36b-6d01-4b63-a914-25d0d67aafe1",
   "metadata": {},
   "source": [
    "#### Conclusión: Los restaurantes que admiten órdenes en línea obtienen puntajes más altos que aquellos que no lo hacen."
   ]
  },
  {
   "cell_type": "markdown",
   "id": "8f5719bf-b0e8-4c58-a0b7-3d482d6e239b",
   "metadata": {},
   "source": [
    "### Paso 10: Comparación entre los tipos de restaurantes y sus alternativas de entrega de órdenes"
   ]
  },
  {
   "cell_type": "code",
   "execution_count": 128,
   "id": "b5915607-d302-4b83-97d3-3704d2512253",
   "metadata": {},
   "outputs": [
    {
     "data": {
      "text/html": [
       "<div>\n",
       "<style scoped>\n",
       "    .dataframe tbody tr th:only-of-type {\n",
       "        vertical-align: middle;\n",
       "    }\n",
       "\n",
       "    .dataframe tbody tr th {\n",
       "        vertical-align: top;\n",
       "    }\n",
       "\n",
       "    .dataframe thead th {\n",
       "        text-align: right;\n",
       "    }\n",
       "</style>\n",
       "<table border=\"1\" class=\"dataframe\">\n",
       "  <thead>\n",
       "    <tr style=\"text-align: right;\">\n",
       "      <th>online_order</th>\n",
       "      <th>False</th>\n",
       "      <th>True</th>\n",
       "    </tr>\n",
       "    <tr>\n",
       "      <th>listed_in(type)</th>\n",
       "      <th></th>\n",
       "      <th></th>\n",
       "    </tr>\n",
       "  </thead>\n",
       "  <tbody>\n",
       "    <tr>\n",
       "      <th>Buffet</th>\n",
       "      <td>3</td>\n",
       "      <td>4</td>\n",
       "    </tr>\n",
       "    <tr>\n",
       "      <th>Cafes</th>\n",
       "      <td>8</td>\n",
       "      <td>15</td>\n",
       "    </tr>\n",
       "    <tr>\n",
       "      <th>Dining</th>\n",
       "      <td>77</td>\n",
       "      <td>33</td>\n",
       "    </tr>\n",
       "    <tr>\n",
       "      <th>other</th>\n",
       "      <td>2</td>\n",
       "      <td>6</td>\n",
       "    </tr>\n",
       "  </tbody>\n",
       "</table>\n",
       "</div>"
      ],
      "text/plain": [
       "online_order     False  True \n",
       "listed_in(type)              \n",
       "Buffet               3      4\n",
       "Cafes                8     15\n",
       "Dining              77     33\n",
       "other                2      6"
      ]
     },
     "execution_count": 128,
     "metadata": {},
     "output_type": "execute_result"
    }
   ],
   "source": [
    "pivot_zomato = pd.pivot_table(\n",
    "    zomato,\n",
    "    index = 'listed_in(type)',\n",
    "    columns = 'online_order',\n",
    "    aggfunc = 'size'\n",
    ")\n",
    "\n",
    "pivot_zomato"
   ]
  },
  {
   "cell_type": "code",
   "execution_count": 138,
   "id": "1d084e92-42e2-4e41-9e34-35348e72d16e",
   "metadata": {},
   "outputs": [
    {
     "data": {
      "image/png": "[encoded data removed]",
      "text/plain": [
       "<Figure size 640x480 with 2 Axes>"
      ]
     },
     "metadata": {},
     "output_type": "display_data"
    }
   ],
   "source": [
    "sns.heatmap(pivot_zomato, annot = True, cmap = 'Blues', fmt = 'd')\n",
    "plt.title('Mapa de calor')\n",
    "plt.xlabel('¿Admite orden online?')\n",
    "plt.ylabel('Tipo de restaurante')\n",
    "plt.show()"
   ]
  },
  {
   "cell_type": "markdown",
   "id": "0630240d-3706-498a-95bf-3c2384deb791",
   "metadata": {},
   "source": [
    "#### Conclusión :  Los restaurantes de tipo 'dining' son aquellos que brindan con mayor frecuencia la alternativa de orden online, lo que puede ser un factor decisivo en que sean preferidos por los comenzales."
   ]
  }
 ],
 "metadata": {
  "kernelspec": {
   "display_name": "Python 3 (ipykernel)",
   "language": "python",
   "name": "python3"
  },
  "language_info": {
   "codemirror_mode": {
    "name": "ipython",
    "version": 3
   },
   "file_extension": ".py",
   "mimetype": "text/x-python",
   "name": "python",
   "nbconvert_exporter": "python",
   "pygments_lexer": "ipython3",
   "version": "3.13.5"
  }
 },
 "nbformat": 4,
 "nbformat_minor": 5
}
